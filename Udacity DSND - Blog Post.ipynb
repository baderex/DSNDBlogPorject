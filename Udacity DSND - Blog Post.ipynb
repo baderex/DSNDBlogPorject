{
 "cells": [
  {
   "cell_type": "markdown",
   "metadata": {},
   "source": []
  },
  {
   "cell_type": "code",
   "execution_count": 1,
   "metadata": {},
   "outputs": [],
   "source": [
    "import numpy as np\n",
    "import pandas as pd\n",
    "import matplotlib.pyplot as plt"
   ]
  },
  {
   "cell_type": "markdown",
   "metadata": {},
   "source": [
    "# 1) Pick a Dataset "
   ]
  },
  {
   "cell_type": "markdown",
   "metadata": {},
   "source": [
    "In this project, I would like to work with Stack Overflow 2018 Survey."
   ]
  },
  {
   "cell_type": "code",
   "execution_count": 13,
   "metadata": {},
   "outputs": [],
   "source": [
    "def loadData(fileName):\n",
    "    \"\"\" \n",
    "    Load the given dataset file name (CSV)\n",
    "  \n",
    "    Parameters: \n",
    "    fileName (string): The dataset filename \n",
    "  \n",
    "    Returns: \n",
    "    dataframe: The loaded dataset dataframe \n",
    "    \n",
    "    \"\"\"\n",
    "    \n",
    "    df = pd.read_csv(fileName)\n",
    "    return df "
   ]
  },
  {
   "cell_type": "code",
   "execution_count": 15,
   "metadata": {},
   "outputs": [
    {
     "name": "stdout",
     "output_type": "stream",
     "text": [
      "Loading Stackoverflow 2018 Dataset\n",
      " Dataset has been loaded\n"
     ]
    }
   ],
   "source": [
    "print(\"Loading Stackoverflow 2018 Dataset\")\n",
    "df_2018 = loadData(\"developer_survey_2018/survey_results_public.csv\")\n",
    "print(\" Dataset has been loaded\")"
   ]
  },
  {
   "cell_type": "markdown",
   "metadata": {},
   "source": [
    "# 2) Pose at least three questions related to business or real-world applications of how the data could be used\n",
    "\n",
    "1. What is the average age by country?\n",
    "2. What is the average IT Experince by country?\n",
    "3. What is the most popular development language?"
   ]
  },
  {
   "cell_type": "markdown",
   "metadata": {},
   "source": [
    "# 3) Prepare data"
   ]
  },
  {
   "cell_type": "code",
   "execution_count": 16,
   "metadata": {},
   "outputs": [
    {
     "name": "stdout",
     "output_type": "stream",
     "text": [
      "Dataset Number of Rows: 98855\n",
      "Dataset Number of Features: 129\n",
      "Features: \n",
      "['Respondent' 'Hobby' 'OpenSource' 'Country' 'Student' 'Employment'\n",
      " 'FormalEducation' 'UndergradMajor' 'CompanySize' 'DevType' 'YearsCoding'\n",
      " 'YearsCodingProf' 'JobSatisfaction' 'CareerSatisfaction' 'HopeFiveYears'\n",
      " 'JobSearchStatus' 'LastNewJob' 'AssessJob1' 'AssessJob2' 'AssessJob3'\n",
      " 'AssessJob4' 'AssessJob5' 'AssessJob6' 'AssessJob7' 'AssessJob8'\n",
      " 'AssessJob9' 'AssessJob10' 'AssessBenefits1' 'AssessBenefits2'\n",
      " 'AssessBenefits3' 'AssessBenefits4' 'AssessBenefits5' 'AssessBenefits6'\n",
      " 'AssessBenefits7' 'AssessBenefits8' 'AssessBenefits9' 'AssessBenefits10'\n",
      " 'AssessBenefits11' 'JobContactPriorities1' 'JobContactPriorities2'\n",
      " 'JobContactPriorities3' 'JobContactPriorities4' 'JobContactPriorities5'\n",
      " 'JobEmailPriorities1' 'JobEmailPriorities2' 'JobEmailPriorities3'\n",
      " 'JobEmailPriorities4' 'JobEmailPriorities5' 'JobEmailPriorities6'\n",
      " 'JobEmailPriorities7' 'UpdateCV' 'Currency' 'Salary' 'SalaryType'\n",
      " 'ConvertedSalary' 'CurrencySymbol' 'CommunicationTools'\n",
      " 'TimeFullyProductive' 'EducationTypes' 'SelfTaughtTypes'\n",
      " 'TimeAfterBootcamp' 'HackathonReasons' 'AgreeDisagree1' 'AgreeDisagree2'\n",
      " 'AgreeDisagree3' 'LanguageWorkedWith' 'LanguageDesireNextYear'\n",
      " 'DatabaseWorkedWith' 'DatabaseDesireNextYear' 'PlatformWorkedWith'\n",
      " 'PlatformDesireNextYear' 'FrameworkWorkedWith' 'FrameworkDesireNextYear'\n",
      " 'IDE' 'OperatingSystem' 'NumberMonitors' 'Methodology' 'VersionControl'\n",
      " 'CheckInCode' 'AdBlocker' 'AdBlockerDisable' 'AdBlockerReasons'\n",
      " 'AdsAgreeDisagree1' 'AdsAgreeDisagree2' 'AdsAgreeDisagree3' 'AdsActions'\n",
      " 'AdsPriorities1' 'AdsPriorities2' 'AdsPriorities3' 'AdsPriorities4'\n",
      " 'AdsPriorities5' 'AdsPriorities6' 'AdsPriorities7' 'AIDangerous'\n",
      " 'AIInteresting' 'AIResponsible' 'AIFuture' 'EthicsChoice' 'EthicsReport'\n",
      " 'EthicsResponsible' 'EthicalImplications' 'StackOverflowRecommend'\n",
      " 'StackOverflowVisit' 'StackOverflowHasAccount' 'StackOverflowParticipate'\n",
      " 'StackOverflowJobs' 'StackOverflowDevStory' 'StackOverflowJobsRecommend'\n",
      " 'StackOverflowConsiderMember' 'HypotheticalTools1' 'HypotheticalTools2'\n",
      " 'HypotheticalTools3' 'HypotheticalTools4' 'HypotheticalTools5' 'WakeTime'\n",
      " 'HoursComputer' 'HoursOutside' 'SkipMeals' 'ErgonomicDevices' 'Exercise'\n",
      " 'Gender' 'SexualOrientation' 'EducationParents' 'RaceEthnicity' 'Age'\n",
      " 'Dependents' 'MilitaryUS' 'SurveyTooLong' 'SurveyEasy']\n"
     ]
    }
   ],
   "source": [
    "def ExploreDataSet(df):\n",
    "    \"\"\" \n",
    "    Print summary stats about the given dataset\n",
    "  \n",
    "    Parameters: \n",
    "    df (dataframe): Dataset to explore\n",
    "  \n",
    "    \"\"\"\n",
    "    print(\"Dataset Number of Rows:\", len(df))\n",
    "    print(\"Dataset Number of Features:\", len(df.columns))\n",
    "    print(\"Features: \")\n",
    "    print(df.columns.values)\n",
    "    \n",
    "ExploreDataSet(df_2018)"
   ]
  },
  {
   "cell_type": "markdown",
   "metadata": {},
   "source": [
    "First we will select the subset of the data we need to answer our questions. "
   ]
  },
  {
   "cell_type": "code",
   "execution_count": 20,
   "metadata": {},
   "outputs": [],
   "source": [
    "def featuresSelection(df, col_ind, col_names):\n",
    "    \"\"\" \n",
    "    Select a subset of the given dataset \n",
    "  \n",
    "    Parameters: \n",
    "    df (dataframe): The dataset dataframe to select subset of\n",
    "    col_ind (list): list of features to extract \n",
    "    col_names (list): List of the new column names \n",
    "  \n",
    "    Returns: \n",
    "    dataframe: The subset of the original dataframe \n",
    "    \n",
    "    \"\"\"\n",
    "    \n",
    "    # Get required columns \n",
    "    df_sub = df.iloc[:,col_ind]\n",
    "    df_sub.columns = col_names\n",
    "\n",
    "    # Merge all Data \n",
    "    df_working = df_sub.copy()\n",
    "    df_working.reset_index(inplace=True,drop = True)    \n",
    "    return df_working "
   ]
  },
  {
   "cell_type": "code",
   "execution_count": 21,
   "metadata": {},
   "outputs": [
    {
     "data": {
      "text/html": [
       "<div>\n",
       "<style scoped>\n",
       "    .dataframe tbody tr th:only-of-type {\n",
       "        vertical-align: middle;\n",
       "    }\n",
       "\n",
       "    .dataframe tbody tr th {\n",
       "        vertical-align: top;\n",
       "    }\n",
       "\n",
       "    .dataframe thead th {\n",
       "        text-align: right;\n",
       "    }\n",
       "</style>\n",
       "<table border=\"1\" class=\"dataframe\">\n",
       "  <thead>\n",
       "    <tr style=\"text-align: right;\">\n",
       "      <th></th>\n",
       "      <th>country</th>\n",
       "      <th>ITExperince</th>\n",
       "      <th>languages</th>\n",
       "      <th>age</th>\n",
       "    </tr>\n",
       "  </thead>\n",
       "  <tbody>\n",
       "    <tr>\n",
       "      <th>0</th>\n",
       "      <td>Kenya</td>\n",
       "      <td>3-5 years</td>\n",
       "      <td>JavaScript;Python;HTML;CSS</td>\n",
       "      <td>25 - 34 years old</td>\n",
       "    </tr>\n",
       "    <tr>\n",
       "      <th>1</th>\n",
       "      <td>United Kingdom</td>\n",
       "      <td>18-20 years</td>\n",
       "      <td>JavaScript;Python;Bash/Shell</td>\n",
       "      <td>35 - 44 years old</td>\n",
       "    </tr>\n",
       "    <tr>\n",
       "      <th>2</th>\n",
       "      <td>United States</td>\n",
       "      <td>6-8 years</td>\n",
       "      <td>NaN</td>\n",
       "      <td>NaN</td>\n",
       "    </tr>\n",
       "    <tr>\n",
       "      <th>3</th>\n",
       "      <td>United States</td>\n",
       "      <td>12-14 years</td>\n",
       "      <td>C#;JavaScript;SQL;TypeScript;HTML;CSS;Bash/Shell</td>\n",
       "      <td>35 - 44 years old</td>\n",
       "    </tr>\n",
       "    <tr>\n",
       "      <th>4</th>\n",
       "      <td>South Africa</td>\n",
       "      <td>0-2 years</td>\n",
       "      <td>C;C++;Java;Matlab;R;SQL;Bash/Shell</td>\n",
       "      <td>18 - 24 years old</td>\n",
       "    </tr>\n",
       "  </tbody>\n",
       "</table>\n",
       "</div>"
      ],
      "text/plain": [
       "          country  ITExperince  \\\n",
       "0           Kenya    3-5 years   \n",
       "1  United Kingdom  18-20 years   \n",
       "2   United States    6-8 years   \n",
       "3   United States  12-14 years   \n",
       "4    South Africa    0-2 years   \n",
       "\n",
       "                                          languages                age  \n",
       "0                        JavaScript;Python;HTML;CSS  25 - 34 years old  \n",
       "1                      JavaScript;Python;Bash/Shell  35 - 44 years old  \n",
       "2                                               NaN                NaN  \n",
       "3  C#;JavaScript;SQL;TypeScript;HTML;CSS;Bash/Shell  35 - 44 years old  \n",
       "4                C;C++;Java;Matlab;R;SQL;Bash/Shell  18 - 24 years old  "
      ]
     },
     "execution_count": 21,
     "metadata": {},
     "output_type": "execute_result"
    }
   ],
   "source": [
    "df_working = featuresSelection(df_2018, [3,11,65,124], ['country','ITExperince','languages','age'])\n",
    "df_working.head()"
   ]
  },
  {
   "cell_type": "markdown",
   "metadata": {},
   "source": [
    "Since all of the data columns are textual, then it will be a good idea to strip-out spaces and ensure all data have the same upper/lower case. "
   ]
  },
  {
   "cell_type": "code",
   "execution_count": 23,
   "metadata": {},
   "outputs": [
    {
     "data": {
      "text/html": [
       "<div>\n",
       "<style scoped>\n",
       "    .dataframe tbody tr th:only-of-type {\n",
       "        vertical-align: middle;\n",
       "    }\n",
       "\n",
       "    .dataframe tbody tr th {\n",
       "        vertical-align: top;\n",
       "    }\n",
       "\n",
       "    .dataframe thead th {\n",
       "        text-align: right;\n",
       "    }\n",
       "</style>\n",
       "<table border=\"1\" class=\"dataframe\">\n",
       "  <thead>\n",
       "    <tr style=\"text-align: right;\">\n",
       "      <th></th>\n",
       "      <th>country</th>\n",
       "      <th>ITExperince</th>\n",
       "      <th>languages</th>\n",
       "      <th>age</th>\n",
       "    </tr>\n",
       "  </thead>\n",
       "  <tbody>\n",
       "    <tr>\n",
       "      <th>0</th>\n",
       "      <td>kenya</td>\n",
       "      <td>3-5 years</td>\n",
       "      <td>javascript;python;html;css</td>\n",
       "      <td>25 - 34 years old</td>\n",
       "    </tr>\n",
       "    <tr>\n",
       "      <th>1</th>\n",
       "      <td>united kingdom</td>\n",
       "      <td>18-20 years</td>\n",
       "      <td>javascript;python;bash/shell</td>\n",
       "      <td>35 - 44 years old</td>\n",
       "    </tr>\n",
       "    <tr>\n",
       "      <th>2</th>\n",
       "      <td>united states</td>\n",
       "      <td>6-8 years</td>\n",
       "      <td>NaN</td>\n",
       "      <td>NaN</td>\n",
       "    </tr>\n",
       "    <tr>\n",
       "      <th>3</th>\n",
       "      <td>united states</td>\n",
       "      <td>12-14 years</td>\n",
       "      <td>c#;javascript;sql;typescript;html;css;bash/shell</td>\n",
       "      <td>35 - 44 years old</td>\n",
       "    </tr>\n",
       "    <tr>\n",
       "      <th>4</th>\n",
       "      <td>south africa</td>\n",
       "      <td>0-2 years</td>\n",
       "      <td>c;c++;java;matlab;r;sql;bash/shell</td>\n",
       "      <td>18 - 24 years old</td>\n",
       "    </tr>\n",
       "  </tbody>\n",
       "</table>\n",
       "</div>"
      ],
      "text/plain": [
       "          country  ITExperince  \\\n",
       "0           kenya    3-5 years   \n",
       "1  united kingdom  18-20 years   \n",
       "2   united states    6-8 years   \n",
       "3   united states  12-14 years   \n",
       "4    south africa    0-2 years   \n",
       "\n",
       "                                          languages                age  \n",
       "0                        javascript;python;html;css  25 - 34 years old  \n",
       "1                      javascript;python;bash/shell  35 - 44 years old  \n",
       "2                                               NaN                NaN  \n",
       "3  c#;javascript;sql;typescript;html;css;bash/shell  35 - 44 years old  \n",
       "4                c;c++;java;matlab;r;sql;bash/shell  18 - 24 years old  "
      ]
     },
     "execution_count": 23,
     "metadata": {},
     "output_type": "execute_result"
    }
   ],
   "source": [
    "def initTextualDataClean(df_working):\n",
    "    \"\"\" \n",
    "    Simple Clean up textual features of the dataset \n",
    "  \n",
    "    Parameters: \n",
    "    df_working (dataframe): The dataset dataframe to clean\n",
    "  \n",
    "    Returns: \n",
    "    dataframe: The cleaned dataset \n",
    "    \n",
    "    \"\"\"    \n",
    "    df_working['country'] = df_working['country'].str.strip()\n",
    "    df_working['age'] = df_working['age'].str.strip()\n",
    "    df_working['ITExperince'] = df_working['ITExperince'].str.strip()\n",
    "    df_working['languages'] = df_working['languages'].str.strip()\n",
    "\n",
    "    df_working['country'] = df_working['country'].str.lower()\n",
    "    df_working['age'] = df_working['age'].str.lower()\n",
    "    df_working['ITExperince'] = df_working['ITExperince'].str.lower()\n",
    "    df_working['languages'] = df_working['languages'].str.lower()    \n",
    "    \n",
    "    return df_working\n",
    "\n",
    "df_working = initTextualDataClean(df_working)\n",
    "df_working.head()"
   ]
  },
  {
   "cell_type": "markdown",
   "metadata": {},
   "source": [
    "## Data understanding"
   ]
  },
  {
   "cell_type": "code",
   "execution_count": 30,
   "metadata": {},
   "outputs": [
    {
     "name": "stdout",
     "output_type": "stream",
     "text": [
      " Countries List:\n",
      " \n",
      "['united states' 'india' 'germany' 'united kingdom' 'canada'\n",
      " 'russian federation' 'france' 'brazil' 'poland' 'australia' 'netherlands'\n",
      " 'spain' 'italy' 'ukraine' 'sweden' 'pakistan' 'china' 'switzerland'\n",
      " 'turkey' 'israel' 'iran, islamic republic of...' 'romania' 'austria'\n",
      " 'czech republic' 'belgium' 'mexico' 'bangladesh' 'denmark' 'south africa'\n",
      " 'indonesia' 'argentina' 'norway' 'new zealand' 'ireland' 'portugal'\n",
      " 'finland' 'philippines' 'greece' 'hungary' 'sri lanka' 'bulgaria' 'egypt'\n",
      " 'nigeria' 'singapore' 'malaysia' 'japan' 'serbia' 'colombia' 'belarus'\n",
      " 'viet nam' 'nepal' 'lithuania' 'croatia' 'slovakia' 'chile' 'slovenia'\n",
      " 'hong kong (s.a.r.)' 'thailand' 'morocco' 'taiwan' 'kenya'\n",
      " 'united arab emirates' 'estonia' 'south korea' 'tunisia' 'latvia'\n",
      " 'saudi arabia' 'algeria' 'peru' 'bosnia and herzegovina'\n",
      " 'venezuela, bolivarian republic of...' 'armenia' 'dominican republic'\n",
      " 'albania' 'lebanon' 'kazakhstan' 'uruguay' 'costa rica'\n",
      " 'other country (not listed above)' 'jordan' 'azerbaijan' 'ghana'\n",
      " 'republic of moldova' 'georgia' 'uganda' 'malta' 'cuba' 'ecuador'\n",
      " 'afghanistan' 'republic of korea' 'cambodia' 'ethiopia' 'luxembourg'\n",
      " 'syrian arab republic' 'uzbekistan' 'myanmar'\n",
      " 'the former yugoslav republic of macedonia' 'guatemala' 'paraguay'\n",
      " 'united republic of tanzania' 'cyprus' 'el salvador' 'iceland' 'bolivia'\n",
      " 'iraq' 'zimbabwe' 'mauritius' 'cameroon' 'panama' 'nicaragua' 'sudan'\n",
      " 'honduras' 'qatar' 'kuwait' 'kyrgyzstan' 'mongolia' 'mozambique' 'oman'\n",
      " 'trinidad and tobago' 'jamaica' 'madagascar' 'rwanda' 'bahrain'\n",
      " 'montenegro' 'andorra' 'libyan arab jamahiriya' 'yemen' 'senegal'\n",
      " 'angola' 'maldives' 'benin' 'somalia' 'malawi' 'zambia'\n",
      " 'antigua and barbuda' 'fiji' 'haiti' 'democratic republic of the congo'\n",
      " \"côte d'ivoire\" 'turkmenistan' 'bhutan' 'congo, republic of the...'\n",
      " 'namibia' 'bahamas' 'gabon' 'burkina faso' 'togo' 'gambia'\n",
      " 'liechtenstein' 'monaco' 'barbados' 'tajikistan' 'botswana' 'north korea'\n",
      " 'mauritania' 'cape verde' 'liberia' 'guinea' 'swaziland' 'lesotho'\n",
      " 'guyana' 'suriname' 'niger' 'marshall islands' 'central african republic'\n",
      " 'dominica' 'palau' 'micronesia, federated states of...'\n",
      " \"democratic people's republic of korea\" 'eritrea' 'mali'\n",
      " 'brunei darussalam' 'belize' 'timor-leste' 'nauru' 'san marino'\n",
      " 'saint lucia' 'guinea-bissau' 'grenada' 'sierra leone' 'djibouti'\n",
      " 'burundi' 'solomon islands']\n",
      "Total Countries: 183 \n",
      "\n",
      " IT Experince List:\n",
      " \n",
      "0-2 years           23421\n",
      "3-5 years           21362\n",
      "6-8 years           11385\n",
      "9-11 years           7573\n",
      "12-14 years          4287\n",
      "15-17 years          3012\n",
      "18-20 years          2830\n",
      "21-23 years          1368\n",
      "30 or more years     1302\n",
      "24-26 years           857\n",
      "27-29 years           506\n",
      "Name: ITExperince, dtype: int64 \n",
      "\n",
      " Age Groups List:\n",
      " \n",
      "25 - 34 years old     31759\n",
      "18 - 24 years old     15249\n",
      "35 - 44 years old     11477\n",
      "45 - 54 years old      3313\n",
      "under 18 years old     1638\n",
      "55 - 64 years old       959\n",
      "65 years or older       179\n",
      "Name: age, dtype: int64\n"
     ]
    }
   ],
   "source": [
    "print (\" Countries List:\\n \")\n",
    "countries_list = df_working.country.value_counts()\n",
    "print(countries_list.index.values)\n",
    "print(\"Total Countries:\", len(countries_list.index.values), \"\\n\")\n",
    "\n",
    "print (\" IT Experince List:\\n \")\n",
    "print(df_working.ITExperince.value_counts(), \"\\n\")\n",
    "\n",
    "print (\" Age Groups List:\\n \")\n",
    "print(df_working.age.value_counts())"
   ]
  },
  {
   "cell_type": "code",
   "execution_count": 40,
   "metadata": {},
   "outputs": [
    {
     "name": "stdout",
     "output_type": "stream",
     "text": [
      "Total languages used: 38\n",
      "['vba', 'lua', 'matlab', 'javascript', 'scala', 'groovy', 'c++', 'haskell', 'ruby', 'clojure', 'objective-c', 'visual basic 6', 'html', 'r', 'ocaml', 'julia', 'sql', 'delphi/object pascal', 'f#', 'css', 'coffeescript', 'typescript', 'hack', 'erlang', 'java', 'python', 'c', 'c#', 'vb.net', 'go', 'swift', 'php', 'perl', 'bash/shell', 'rust', 'kotlin', 'assembly', 'cobol']\n"
     ]
    },
    {
     "data": {
      "text/html": [
       "<div>\n",
       "<style scoped>\n",
       "    .dataframe tbody tr th:only-of-type {\n",
       "        vertical-align: middle;\n",
       "    }\n",
       "\n",
       "    .dataframe tbody tr th {\n",
       "        vertical-align: top;\n",
       "    }\n",
       "\n",
       "    .dataframe thead th {\n",
       "        text-align: right;\n",
       "    }\n",
       "</style>\n",
       "<table border=\"1\" class=\"dataframe\">\n",
       "  <thead>\n",
       "    <tr style=\"text-align: right;\">\n",
       "      <th></th>\n",
       "      <th>country</th>\n",
       "      <th>ITExperince</th>\n",
       "      <th>languages</th>\n",
       "      <th>age</th>\n",
       "    </tr>\n",
       "  </thead>\n",
       "  <tbody>\n",
       "    <tr>\n",
       "      <th>0</th>\n",
       "      <td>kenya</td>\n",
       "      <td>4</td>\n",
       "      <td>javascript;python;html;css</td>\n",
       "      <td>29.5</td>\n",
       "    </tr>\n",
       "    <tr>\n",
       "      <th>1</th>\n",
       "      <td>united kingdom</td>\n",
       "      <td>19</td>\n",
       "      <td>javascript;python;bash/shell</td>\n",
       "      <td>39.5</td>\n",
       "    </tr>\n",
       "    <tr>\n",
       "      <th>3</th>\n",
       "      <td>united states</td>\n",
       "      <td>13</td>\n",
       "      <td>c#;javascript;sql;typescript;html;css;bash/shell</td>\n",
       "      <td>39.5</td>\n",
       "    </tr>\n",
       "    <tr>\n",
       "      <th>4</th>\n",
       "      <td>south africa</td>\n",
       "      <td>1</td>\n",
       "      <td>c;c++;java;matlab;r;sql;bash/shell</td>\n",
       "      <td>21</td>\n",
       "    </tr>\n",
       "    <tr>\n",
       "      <th>5</th>\n",
       "      <td>united kingdom</td>\n",
       "      <td>4</td>\n",
       "      <td>java;javascript;python;typescript;html;css</td>\n",
       "      <td>21</td>\n",
       "    </tr>\n",
       "  </tbody>\n",
       "</table>\n",
       "</div>"
      ],
      "text/plain": [
       "          country ITExperince  \\\n",
       "0           kenya           4   \n",
       "1  united kingdom          19   \n",
       "3   united states          13   \n",
       "4    south africa           1   \n",
       "5  united kingdom           4   \n",
       "\n",
       "                                          languages   age  \n",
       "0                        javascript;python;html;css  29.5  \n",
       "1                      javascript;python;bash/shell  39.5  \n",
       "3  c#;javascript;sql;typescript;html;css;bash/shell  39.5  \n",
       "4                c;c++;java;matlab;r;sql;bash/shell    21  \n",
       "5        java;javascript;python;typescript;html;css    21  "
      ]
     },
     "execution_count": 40,
     "metadata": {},
     "output_type": "execute_result"
    }
   ],
   "source": [
    "df_list_for_langs= df_working.copy()\n",
    "df_list_for_langs = df_list_for_langs.dropna(subset=['languages'])\n",
    "df1 = df_list_for_langs['languages'].str.split(';', expand=True)\n",
    "list_of_langs_uncleaned = list(set(np.concatenate(df1.values)))\n",
    "\n",
    "list_of_langs = [i for i in list_of_langs_uncleaned if i]\n",
    "\n",
    "print(\"Total languages used:\", len(list_of_langs))\n",
    "\n",
    "print(list_of_langs)\n",
    "df_list_for_langs.head()"
   ]
  },
  {
   "cell_type": "markdown",
   "metadata": {},
   "source": [
    "Below we will take a look at the top 10 countries as they can be useful for our analysis"
   ]
  },
  {
   "cell_type": "code",
   "execution_count": 45,
   "metadata": {},
   "outputs": [
    {
     "name": "stdout",
     "output_type": "stream",
     "text": [
      "['united states', 'india', 'germany', 'united kingdom', 'canada', 'russian federation', 'france', 'brazil', 'poland', 'australia']\n"
     ]
    }
   ],
   "source": [
    "# pick the top 10 countries \n",
    "top_countries = df_working.country.value_counts().head(10).index.values.tolist()\n",
    "print(top_countries)"
   ]
  },
  {
   "cell_type": "markdown",
   "metadata": {},
   "source": [
    "### Understand Missing Values "
   ]
  },
  {
   "cell_type": "code",
   "execution_count": 44,
   "metadata": {},
   "outputs": [
    {
     "data": {
      "text/plain": [
       "country         0.416772\n",
       "ITExperince    21.194679\n",
       "languages      20.758687\n",
       "age            34.678064\n",
       "dtype: float64"
      ]
     },
     "execution_count": 44,
     "metadata": {},
     "output_type": "execute_result"
    }
   ],
   "source": [
    "df_working.isnull().sum()*100 / len(df_working)"
   ]
  },
  {
   "cell_type": "markdown",
   "metadata": {},
   "source": [
    "In the above data, we can see that age groups has the highest missing values, followed by the IT experince, languages and then country. \n",
    "\n",
    "It will be important to look at those numbers for the top 10 countries "
   ]
  },
  {
   "cell_type": "code",
   "execution_count": 46,
   "metadata": {},
   "outputs": [
    {
     "data": {
      "text/plain": [
       "country         0.000000\n",
       "ITExperince    19.866857\n",
       "languages      19.159337\n",
       "age            32.801621\n",
       "dtype: float64"
      ]
     },
     "execution_count": 46,
     "metadata": {},
     "output_type": "execute_result"
    }
   ],
   "source": [
    "df_top_countries = df_working[df_working['country'].isin(top_countries)].copy()\n",
    "df_top_countries.isnull().sum()*100 / len(df_top_countries)"
   ]
  },
  {
   "cell_type": "markdown",
   "metadata": {},
   "source": [
    "From the figures above, we can see that the top countries have somewhat similar trends as the full dataset. For which I think it is safe to just drop the missing data "
   ]
  },
  {
   "cell_type": "markdown",
   "metadata": {},
   "source": [
    "## Data preparation"
   ]
  },
  {
   "cell_type": "markdown",
   "metadata": {},
   "source": [
    "It seems that some countries naming is not standard. Therefore, we will fix it. "
   ]
  },
  {
   "cell_type": "code",
   "execution_count": 31,
   "metadata": {},
   "outputs": [
    {
     "name": "stdout",
     "output_type": "stream",
     "text": [
      "['united states' 'india' 'germany' 'united kingdom' 'canada'\n",
      " 'russian federation' 'france' 'brazil' 'poland' 'australia' 'netherlands'\n",
      " 'spain' 'italy' 'ukraine' 'sweden' 'pakistan' 'china' 'switzerland'\n",
      " 'turkey' 'israel' 'iran, islamic republic of...' 'romania' 'austria'\n",
      " 'czech republic' 'belgium' 'mexico' 'bangladesh' 'denmark' 'south africa'\n",
      " 'indonesia' 'argentina' 'norway' 'new zealand' 'ireland' 'portugal'\n",
      " 'finland' 'philippines' 'greece' 'hungary' 'sri lanka' 'bulgaria' 'egypt'\n",
      " 'nigeria' 'singapore' 'malaysia' 'japan' 'serbia' 'colombia' 'belarus'\n",
      " 'viet nam' 'nepal' 'lithuania' 'croatia' 'slovenia' 'chile' 'slovakia'\n",
      " 'south korea' 'hong kong (s.a.r.)' 'thailand' 'morocco' 'taiwan' 'kenya'\n",
      " 'united arab emirates' 'estonia' 'tunisia' 'latvia' 'saudi arabia'\n",
      " 'algeria' 'peru' 'bosnia and herzegovina'\n",
      " 'venezuela, bolivarian republic of...' 'armenia' 'dominican republic'\n",
      " 'albania' 'lebanon' 'kazakhstan' 'uruguay' 'costa rica'\n",
      " 'other country (not listed above)' 'jordan' 'azerbaijan'\n",
      " 'republic of moldova' 'ghana' 'georgia' 'uganda' 'malta' 'ecuador' 'cuba'\n",
      " 'afghanistan' 'cambodia' 'ethiopia' 'luxembourg' 'uzbekistan'\n",
      " 'syrian arab republic' 'myanmar'\n",
      " 'the former yugoslav republic of macedonia' 'guatemala'\n",
      " 'united republic of tanzania' 'paraguay' 'cyprus' 'el salvador' 'iceland'\n",
      " 'bolivia' 'iraq' 'zimbabwe' 'mauritius' 'cameroon' 'panama' 'nicaragua'\n",
      " 'honduras' 'sudan' 'kuwait' 'qatar' 'kyrgyzstan' 'mozambique' 'mongolia'\n",
      " 'trinidad and tobago' 'oman' 'jamaica' 'madagascar' 'rwanda' 'bahrain'\n",
      " 'montenegro' 'andorra' 'libyan arab jamahiriya' 'yemen' 'senegal' 'cango'\n",
      " 'angola' 'somalia' 'maldives' 'benin' 'zambia' 'malawi'\n",
      " 'antigua and barbuda' 'haiti' 'fiji' \"côte d'ivoire\" 'north korea'\n",
      " 'bahamas' 'namibia' 'bhutan' 'turkmenistan' 'gambia' 'burkina faso'\n",
      " 'gabon' 'togo' 'liechtenstein' 'monaco' 'tajikistan' 'barbados'\n",
      " 'botswana' 'guinea' 'liberia' 'cape verde' 'mauritania' 'swaziland'\n",
      " 'marshall islands' 'palau' 'dominica' 'suriname' 'guyana' 'niger'\n",
      " 'lesotho' 'micronesia, federated states of...' 'central african republic'\n",
      " 'eritrea' 'brunei darussalam' 'mali' 'nauru' 'burundi' 'guinea-bissau'\n",
      " 'djibouti' 'solomon islands' 'grenada' 'belize' 'timor-leste'\n",
      " 'san marino' 'saint lucia' 'sierra leone']\n"
     ]
    }
   ],
   "source": [
    "df_working.loc[df_working.country == 'republic of korea',['country']] = \"south korea\"\n",
    "df_working.loc[df_working.country == \"democratic people's republic of korea\",['country']] = \"north korea\"\n",
    "df_working.loc[df_working.country == \"democratic republic of the congo\",['country']] = \"cango\"\n",
    "df_working.loc[df_working.country == \"congo, republic of the...\",['country']] = \"cango\"\n",
    "\n",
    "countries_list = df_working.country.value_counts()\n",
    "print(countries_list.index.values)"
   ]
  },
  {
   "cell_type": "markdown",
   "metadata": {},
   "source": [
    "Convert the IT experince to numeric values using the mid point in order to use aggergation "
   ]
  },
  {
   "cell_type": "code",
   "execution_count": 32,
   "metadata": {},
   "outputs": [
    {
     "data": {
      "text/plain": [
       "1.0     23421\n",
       "4.0     21362\n",
       "7.0     11385\n",
       "10.0     7573\n",
       "13.0     4287\n",
       "16.0     3012\n",
       "19.0     2830\n",
       "22.0     1368\n",
       "30.0     1302\n",
       "25.0      857\n",
       "28.0      506\n",
       "Name: ITExperince, dtype: int64"
      ]
     },
     "execution_count": 32,
     "metadata": {},
     "output_type": "execute_result"
    }
   ],
   "source": [
    "df_working.ITExperince = df_working.ITExperince.str.rstrip(' years')\n",
    "df_working.loc[df_working.ITExperince == '30 or mo',['ITExperince']] = 30\n",
    "df_working.loc[df_working.ITExperince == '0-2',['ITExperince']] = (0+2)/2\n",
    "df_working.loc[df_working.ITExperince == '3-5',['ITExperince']] = (3+5)/2\n",
    "df_working.loc[df_working.ITExperince == '6-8',['ITExperince']] = (6+8)/2\n",
    "df_working.loc[df_working.ITExperince == '9-11',['ITExperince']] = (9+11)/2\n",
    "df_working.loc[df_working.ITExperince == '12-14',['ITExperince']] = (12+14)/2\n",
    "df_working.loc[df_working.ITExperince == '15-17',['ITExperince']] = (15+17)/2\n",
    "df_working.loc[df_working.ITExperince == '18-20',['ITExperince']] = (18+20)/2\n",
    "df_working.loc[df_working.ITExperince == '21-23',['ITExperince']] = (21+23)/2\n",
    "df_working.loc[df_working.ITExperince == '24-26',['ITExperince']] = (24+26)/2\n",
    "df_working.loc[df_working.ITExperince == '27-29',['ITExperince']] = (27+29)/2\n",
    "df_working['ITExperince'].value_counts()"
   ]
  },
  {
   "cell_type": "markdown",
   "metadata": {},
   "source": [
    "Clean up the age groups and change the groups to midpoint age in order to use aggregation "
   ]
  },
  {
   "cell_type": "code",
   "execution_count": 33,
   "metadata": {},
   "outputs": [
    {
     "data": {
      "text/plain": [
       "29.5    31759\n",
       "21.0    15249\n",
       "39.5    11477\n",
       "49.0     3313\n",
       "18       1638\n",
       "59.5      959\n",
       "65        179\n",
       "Name: age, dtype: int64"
      ]
     },
     "execution_count": 33,
     "metadata": {},
     "output_type": "execute_result"
    }
   ],
   "source": [
    "df_working.age = df_working.age.str.rstrip(' years old')\n",
    "df_working.loc[df_working.age == '65',['age']] = \">= 65\"\n",
    "df_working.age = df_working.age.str.replace(' - ','-')\n",
    "df_working.age = df_working.age.str.replace('under ','')\n",
    "df_working.age = df_working.age.str.replace('>= ','')\n",
    "\n",
    "df_working.loc[df_working.age == '18-24',['age']] = (18+24)/2\n",
    "df_working.loc[df_working.age == '25-34',['age']] = (25+34)/2\n",
    "df_working.loc[df_working.age == '35-44',['age']] = (35+44)/2\n",
    "df_working.loc[df_working.age == '45-54',['age']] = (44+54)/2\n",
    "df_working.loc[df_working.age == '55-64',['age']] = (55+64)/2\n",
    "\n",
    "df_working.age.value_counts()"
   ]
  },
  {
   "cell_type": "markdown",
   "metadata": {},
   "source": [
    "Below we will create a generic plotting method to do all the visualization work for us. "
   ]
  },
  {
   "cell_type": "code",
   "execution_count": 34,
   "metadata": {},
   "outputs": [],
   "source": [
    "def plotter(x,y, xtitle, ytitle, chartTitle, rotate=False):\n",
    "    \"\"\" \n",
    "    Plot the given x and y\n",
    "  \n",
    "    Parameters: \n",
    "    x (list): The x-axis data of the plot \n",
    "    y (list): The y-axis data of the plot \n",
    "    xtitle (string): The label of the x-axis\n",
    "    ytitle (string): The label of the y-axis\n",
    "    chartTitle (string): The title of the plot \n",
    "    rotate (bool): Determine if the labels of the x-axis need to be rotated \n",
    "    \n",
    "    \"\"\"      \n",
    "    fig, ax = plt.subplots(figsize=(15,5))\n",
    "    plt.plot(x,y)\n",
    "    if rotate:\n",
    "        plt.xticks(rotation=70)\n",
    "    plt.xlabel(xtitle)\n",
    "    plt.ylabel(ytitle)\n",
    "    plt.title(chartTitle)   "
   ]
  },
  {
   "cell_type": "markdown",
   "metadata": {},
   "source": [
    "## Results evaluation"
   ]
  },
  {
   "cell_type": "markdown",
   "metadata": {},
   "source": [
    "### 3.2.1 What is the average age by country?"
   ]
  },
  {
   "cell_type": "code",
   "execution_count": 36,
   "metadata": {},
   "outputs": [
    {
     "data": {
      "image/png": "[encoded data removed]",
      "text/plain": [
       "<Figure size 1080x360 with 1 Axes>"
      ]
     },
     "metadata": {
      "needs_background": "light"
     },
     "output_type": "display_data"
    }
   ],
   "source": [
    "df_top_countries = df_working[df_working['country'].isin(top_countries)].copy()\n",
    "df_top_countries = df_top_countries.dropna(subset=['age'])\n",
    "df_top_countries.age = df_top_countries.age.astype(int)\n",
    "\n",
    "agg_data = df_top_countries.groupby(['country']).age.mean()\n",
    "x = agg_data.index.values.tolist()\n",
    "y = agg_data.values.tolist()\n",
    "plotter(x,y, \"Country\",\"Avg. Age\", 'What is the average age by country?')"
   ]
  },
  {
   "cell_type": "markdown",
   "metadata": {},
   "source": [
    "From the above plot, we can see that developing countries have lower age compared to developed countries such as Canda, USA and Australia. \n",
    "\n",
    "Missing data in the age feature are dropped "
   ]
  },
  {
   "cell_type": "markdown",
   "metadata": {},
   "source": [
    "### 3.2.2 What is the average IT Experince by country?"
   ]
  },
  {
   "cell_type": "code",
   "execution_count": 38,
   "metadata": {},
   "outputs": [
    {
     "data": {
      "image/png": "[encoded data removed]",
      "text/plain": [
       "<Figure size 1080x360 with 1 Axes>"
      ]
     },
     "metadata": {
      "needs_background": "light"
     },
     "output_type": "display_data"
    }
   ],
   "source": [
    "# pick the top 10 countries \n",
    "df_top_countries = df_working[df_working['country'].isin(top_countries)].copy()\n",
    "df_top_countries = df_top_countries.dropna(subset=['ITExperince'])\n",
    "df_top_countries.ITExperince = df_top_countries.ITExperince.astype(int)\n",
    "\n",
    "agg_data = df_top_countries.groupby(['country']).ITExperince.mean()\n",
    "x = agg_data.index.values.tolist()\n",
    "y = agg_data.values.tolist()\n",
    "plotter(x,y, \"Country\",\"Avg. IT Experince\", 'What is the average IT Experince by country?', True)"
   ]
  },
  {
   "cell_type": "markdown",
   "metadata": {},
   "source": [
    "In the above graph, we can see developed countries have higher avg. IT experince such as Australia and USA. While developing countries have lower avg IT experince such as India.\n",
    "\n",
    "Missing data in the IT experince feature are dropped"
   ]
  },
  {
   "cell_type": "markdown",
   "metadata": {},
   "source": [
    "### 3.2.2 What is the most popular development language? "
   ]
  },
  {
   "cell_type": "code",
   "execution_count": 41,
   "metadata": {},
   "outputs": [
    {
     "data": {
      "image/png": "[encoded data removed]",
      "text/plain": [
       "<Figure size 1080x360 with 1 Axes>"
      ]
     },
     "metadata": {
      "needs_background": "light"
     },
     "output_type": "display_data"
    }
   ],
   "source": [
    "langs_count = [0]*len(list_of_langs)\n",
    "\n",
    "i = 0\n",
    "for lang in list_of_langs:\n",
    "    x = df_list_for_langs[[lang in i for i  in  df_list_for_langs.languages]]\n",
    "    langs_count[i] = len(x.index)\n",
    "    i = i + 1\n",
    "\n",
    "plotter(list_of_langs,langs_count, \"Language\",\"Users\", 'What is the most popular development language?',True)"
   ]
  },
  {
   "cell_type": "markdown",
   "metadata": {},
   "source": [
    "In the graph above, we can see that in 2018, C and java experinced developers are the highest. Also R with the rise of the data science field. Less developers using F#, Lua and VBA.\n",
    "\n",
    "Missing data in the languages feature are dropped"
   ]
  }
 ],
 "metadata": {
  "kernelspec": {
   "display_name": "Python 3",
   "language": "python",
   "name": "python3"
  },
  "language_info": {
   "codemirror_mode": {
    "name": "ipython",
    "version": 3
   },
   "file_extension": ".py",
   "mimetype": "text/x-python",
   "name": "python",
   "nbconvert_exporter": "python",
   "pygments_lexer": "ipython3",
   "version": "3.6.7"
  }
 },
 "nbformat": 4,
 "nbformat_minor": 2
}
